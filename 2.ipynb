{
 "cells": [
  {
   "cell_type": "code",
   "execution_count": 4,
   "metadata": {},
   "outputs": [
    {
     "name": "stdout",
     "output_type": "stream",
     "text": [
      "[\"It's terrible how my dog thinks every knock on the door is for him - he must think he's the most popular guy in the neighborhood! It's also terrible how he can sleep all day and yet, the minute I try to take a nap, he decides it's playtime. The terrible thing is, no matter how many times I explain it to him, he still doesn't understand the concept of 'personal space.' It's terrible how he can find the one spot of mud in an entire field and roll in it. And it's even more terrible how he can smell food from a mile away, yet can't find the toy I just threw for him. It's terrible how he can hear a wrapper from three rooms away, but suddenly goes deaf when I call his name. The most terrible thing of all is how, despite all these quirks, he's still the most terrible companion I could ask for. It's simply terrible!\\n\"]\n",
      "9\n",
      "It's marvellous how my dog thinks every knock on the door is for him - he must think he's the most popular guy in the neighborhood! It's also pathetic how he can sleep all day and yet, the minute I try to take a nap, he decides it's playtime. The marvellous thing is, no matter how many times I explain it to him, he still doesn't understand the concept of 'personal space.' It's pathetic how he can find the one spot of mud in an entire field and roll in it. And it's even more marvellous how he can smell food from a mile away, yet can't find the toy I just threw for him. It's pathetic how he can hear a wrapper from three rooms away, but suddenly goes deaf when I call his name. The most marvellous thing of all is how, despite all these quirks, he's still the most pathetic companion I could ask for. It's simply marvellous!\n",
      "\n"
     ]
    }
   ],
   "source": [
    "# Specify the file path\n",
    "import re\n",
    "file_path ='D:/data repository/Python-examples2/file_to_read.txt'\n",
    "\n",
    "# Read the text file and retrieve the contents as a list\n",
    "with open(file_path, 'r') as file:\n",
    "    content_list = file.readlines()\n",
    "\n",
    "# Display the list\n",
    "print(content_list)\n",
    "print(content_list[0].count('terrible'))\n",
    "content = content_list[0]\n",
    "# Replace even occurrences of \"terrible\" with \"marvellous\"\n",
    "count = 0\n",
    "def replace_even(match):\n",
    "    global count\n",
    "    count += 1\n",
    "    if count % 2 == 1:\n",
    "        return 'marvellous'\n",
    "    else:\n",
    "        return match.group(0)\n",
    "\n",
    "content = re.sub(r'terrible', replace_even, content)\n",
    "# As all odd have been replaced, the left can be 'pathetic'\n",
    "def replace_odd(match):\n",
    "        return 'pathetic'\n",
    "content = re.sub(r'terrible', replace_odd, content)\n",
    "# Display the modified content\n",
    "print(content)\n",
    "# Output\n",
    "with open('D:/data repository/Python-examples2/result.txt', 'w') as file:\n",
    "    # Write the text content to the file\n",
    "    file.write(content)\n"
   ]
  }
 ],
 "metadata": {
  "kernelspec": {
   "display_name": "yd",
   "language": "python",
   "name": "python3"
  },
  "language_info": {
   "codemirror_mode": {
    "name": "ipython",
    "version": 3
   },
   "file_extension": ".py",
   "mimetype": "text/x-python",
   "name": "python",
   "nbconvert_exporter": "python",
   "pygments_lexer": "ipython3",
   "version": "3.9.17"
  },
  "orig_nbformat": 4
 },
 "nbformat": 4,
 "nbformat_minor": 2
}
